{
 "cells": [
  {
   "cell_type": "code",
   "execution_count": 7,
   "id": "3bec0c54",
   "metadata": {},
   "outputs": [
    {
     "ename": "ModuleNotFoundError",
     "evalue": "No module named 'face_recognition'",
     "output_type": "error",
     "traceback": [
      "\u001b[1;31m---------------------------------------------------------------------------\u001b[0m",
      "\u001b[1;31mModuleNotFoundError\u001b[0m                       Traceback (most recent call last)",
      "Input \u001b[1;32mIn [7]\u001b[0m, in \u001b[0;36m<cell line: 2>\u001b[1;34m()\u001b[0m\n\u001b[0;32m      1\u001b[0m \u001b[38;5;28;01mfrom\u001b[39;00m \u001b[38;5;21;01mimutils\u001b[39;00m \u001b[38;5;28;01mimport\u001b[39;00m paths\n\u001b[1;32m----> 2\u001b[0m \u001b[38;5;28;01mimport\u001b[39;00m \u001b[38;5;21;01mface_recognition\u001b[39;00m\n\u001b[0;32m      3\u001b[0m \u001b[38;5;28;01mimport\u001b[39;00m \u001b[38;5;21;01mpickle\u001b[39;00m\n\u001b[0;32m      4\u001b[0m \u001b[38;5;28;01mimport\u001b[39;00m \u001b[38;5;21;01mcv2\u001b[39;00m\n",
      "\u001b[1;31mModuleNotFoundError\u001b[0m: No module named 'face_recognition'"
     ]
    }
   ],
   "source": [
    "from imutils import paths\n",
    "import face_recognition\n",
    "import pickle\n",
    "import cv2\n",
    "import os\n",
    "\n",
    "imagePaths = list(paths.list_images('D:\\photos')) \n",
    "knownEncodings = []\n",
    "knownNames = []\n",
    "\n",
    "for (i, imagePath) in enumerate(imagePaths):\n",
    "    \n",
    "    name = imagePath.split(os.path.sep)[-2]\n",
    "    image = cv2.imread(imagePath)\n",
    "    rgb = cv2.cvtColor(image, cv2.COLOR_BGR2RGB)\n",
    "    boxes = face_recognition.face_locations(rgb,model='hog')\n",
    "    encodings = face_recognition.face_encodings(rgb,boxes)\n",
    "    for encoding in encodings:\n",
    "        knownEncodings.append(encoding)\n",
    "        knownNames.append(name)\n",
    "data = {\"encodings\": knownEncodings, \"names\": knownNames}\n",
    "\n",
    "f = open(\"face_enc\", \"wb\")\n",
    "f.write(pickle.dumps(data))\n",
    "f.close()"
   ]
  },
  {
   "cell_type": "code",
   "execution_count": 2,
   "id": "dd3f4df1",
   "metadata": {},
   "outputs": [
    {
     "name": "stdout",
     "output_type": "stream",
     "text": [
      "Collecting imutils\n",
      "  Using cached imutils-0.5.4-py3-none-any.whl\n",
      "Installing collected packages: imutils\n",
      "Successfully installed imutils-0.5.4\n"
     ]
    }
   ],
   "source": [
    "!pip install imutils"
   ]
  },
  {
   "cell_type": "code",
   "execution_count": 6,
   "id": "07470a82",
   "metadata": {},
   "outputs": [
    {
     "name": "stdout",
     "output_type": "stream",
     "text": [
      "Collecting face_recognition\n",
      "  Using cached face_recognition-1.3.0-py2.py3-none-any.whl (15 kB)\n",
      "Collecting face-recognition-models>=0.3.0\n",
      "  Using cached face_recognition_models-0.3.0-py2.py3-none-any.whl\n",
      "Requirement already satisfied: numpy in c:\\users\\shwetha s p\\anaconda3\\envs\\sdp\\lib\\site-packages (from face_recognition) (1.21.5)\n",
      "Requirement already satisfied: Pillow in c:\\users\\shwetha s p\\anaconda3\\envs\\sdp\\lib\\site-packages (from face_recognition) (9.3.0)\n",
      "Requirement already satisfied: Click>=6.0 in c:\\users\\shwetha s p\\anaconda3\\envs\\sdp\\lib\\site-packages (from face_recognition) (8.0.4)\n",
      "Collecting dlib>=19.7\n",
      "  Downloading dlib-19.24.0.tar.gz (3.2 MB)\n",
      "Requirement already satisfied: colorama in c:\\users\\shwetha s p\\anaconda3\\envs\\sdp\\lib\\site-packages (from Click>=6.0->face_recognition) (0.4.4)\n",
      "Building wheels for collected packages: dlib\n",
      "  Building wheel for dlib (setup.py): started\n",
      "  Building wheel for dlib (setup.py): finished with status 'error'\n",
      "  Running setup.py clean for dlib\n",
      "Failed to build dlib\n",
      "Installing collected packages: face-recognition-models, dlib, face-recognition\n",
      "    Running setup.py install for dlib: started\n",
      "    Running setup.py install for dlib: finished with status 'error'\n"
     ]
    },
    {
     "name": "stderr",
     "output_type": "stream",
     "text": [
      "  ERROR: Command errored out with exit status 1:\n",
      "   command: 'C:\\Users\\SHWETHA S P\\anaconda3\\envs\\sdp\\python.exe' -u -c 'import io, os, sys, setuptools, tokenize; sys.argv[0] = '\"'\"'C:\\\\Users\\\\SHWETHA S P\\\\AppData\\\\Local\\\\Temp\\\\pip-install-ywu3pmhg\\\\dlib_5443ce0fc16c416db4d0cdb89c70c2f7\\\\setup.py'\"'\"'; __file__='\"'\"'C:\\\\Users\\\\SHWETHA S P\\\\AppData\\\\Local\\\\Temp\\\\pip-install-ywu3pmhg\\\\dlib_5443ce0fc16c416db4d0cdb89c70c2f7\\\\setup.py'\"'\"';f = getattr(tokenize, '\"'\"'open'\"'\"', open)(__file__) if os.path.exists(__file__) else io.StringIO('\"'\"'from setuptools import setup; setup()'\"'\"');code = f.read().replace('\"'\"'\\r\\n'\"'\"', '\"'\"'\\n'\"'\"');f.close();exec(compile(code, __file__, '\"'\"'exec'\"'\"'))' bdist_wheel -d 'C:\\Users\\SHWETHA S P\\AppData\\Local\\Temp\\pip-wheel-254rfn0j'\n",
      "       cwd: C:\\Users\\SHWETHA S P\\AppData\\Local\\Temp\\pip-install-ywu3pmhg\\dlib_5443ce0fc16c416db4d0cdb89c70c2f7\\\n",
      "  Complete output (8 lines):\n",
      "  running bdist_wheel\n",
      "  running build\n",
      "  running build_py\n",
      "  package init file 'tools\\python\\dlib\\__init__.py' not found (or not a regular file)\n",
      "  running build_ext\n",
      "  \n",
      "  ERROR: CMake must be installed to build dlib\n",
      "  \n",
      "  ----------------------------------------\n",
      "  ERROR: Failed building wheel for dlib\n",
      "    ERROR: Command errored out with exit status 1:\n",
      "     command: 'C:\\Users\\SHWETHA S P\\anaconda3\\envs\\sdp\\python.exe' -u -c 'import io, os, sys, setuptools, tokenize; sys.argv[0] = '\"'\"'C:\\\\Users\\\\SHWETHA S P\\\\AppData\\\\Local\\\\Temp\\\\pip-install-ywu3pmhg\\\\dlib_5443ce0fc16c416db4d0cdb89c70c2f7\\\\setup.py'\"'\"'; __file__='\"'\"'C:\\\\Users\\\\SHWETHA S P\\\\AppData\\\\Local\\\\Temp\\\\pip-install-ywu3pmhg\\\\dlib_5443ce0fc16c416db4d0cdb89c70c2f7\\\\setup.py'\"'\"';f = getattr(tokenize, '\"'\"'open'\"'\"', open)(__file__) if os.path.exists(__file__) else io.StringIO('\"'\"'from setuptools import setup; setup()'\"'\"');code = f.read().replace('\"'\"'\\r\\n'\"'\"', '\"'\"'\\n'\"'\"');f.close();exec(compile(code, __file__, '\"'\"'exec'\"'\"'))' install --record 'C:\\Users\\SHWETHA S P\\AppData\\Local\\Temp\\pip-record-ngt7kbi9\\install-record.txt' --single-version-externally-managed --compile --install-headers 'C:\\Users\\SHWETHA S P\\anaconda3\\envs\\sdp\\Include\\dlib'\n",
      "         cwd: C:\\Users\\SHWETHA S P\\AppData\\Local\\Temp\\pip-install-ywu3pmhg\\dlib_5443ce0fc16c416db4d0cdb89c70c2f7\\\n",
      "    Complete output (10 lines):\n",
      "    running install\n",
      "    C:\\Users\\SHWETHA S P\\anaconda3\\envs\\sdp\\lib\\site-packages\\setuptools\\command\\install.py:34: SetuptoolsDeprecationWarning: setup.py install is deprecated. Use build and pip and other standards-based tools.\n",
      "      warnings.warn(\n",
      "    running build\n",
      "    running build_py\n",
      "    package init file 'tools\\python\\dlib\\__init__.py' not found (or not a regular file)\n",
      "    running build_ext\n",
      "    \n",
      "    ERROR: CMake must be installed to build dlib\n",
      "    \n",
      "    ----------------------------------------\n",
      "ERROR: Command errored out with exit status 1: 'C:\\Users\\SHWETHA S P\\anaconda3\\envs\\sdp\\python.exe' -u -c 'import io, os, sys, setuptools, tokenize; sys.argv[0] = '\"'\"'C:\\\\Users\\\\SHWETHA S P\\\\AppData\\\\Local\\\\Temp\\\\pip-install-ywu3pmhg\\\\dlib_5443ce0fc16c416db4d0cdb89c70c2f7\\\\setup.py'\"'\"'; __file__='\"'\"'C:\\\\Users\\\\SHWETHA S P\\\\AppData\\\\Local\\\\Temp\\\\pip-install-ywu3pmhg\\\\dlib_5443ce0fc16c416db4d0cdb89c70c2f7\\\\setup.py'\"'\"';f = getattr(tokenize, '\"'\"'open'\"'\"', open)(__file__) if os.path.exists(__file__) else io.StringIO('\"'\"'from setuptools import setup; setup()'\"'\"');code = f.read().replace('\"'\"'\\r\\n'\"'\"', '\"'\"'\\n'\"'\"');f.close();exec(compile(code, __file__, '\"'\"'exec'\"'\"'))' install --record 'C:\\Users\\SHWETHA S P\\AppData\\Local\\Temp\\pip-record-ngt7kbi9\\install-record.txt' --single-version-externally-managed --compile --install-headers 'C:\\Users\\SHWETHA S P\\anaconda3\\envs\\sdp\\Include\\dlib' Check the logs for full command output.\n"
     ]
    }
   ],
   "source": [
    "!pip install face_recognition"
   ]
  },
  {
   "cell_type": "code",
   "execution_count": 4,
   "id": "a965bc50",
   "metadata": {},
   "outputs": [
    {
     "name": "stdout",
     "output_type": "stream",
     "text": [
      "Collecting opencv-python\n",
      "  Downloading opencv_python-4.7.0.68-cp37-abi3-win_amd64.whl (38.2 MB)\n",
      "Requirement already satisfied: numpy>=1.17.3 in c:\\users\\shwetha s p\\anaconda3\\envs\\sdp\\lib\\site-packages (from opencv-python) (1.21.5)\n",
      "Installing collected packages: opencv-python\n",
      "Successfully installed opencv-python-4.7.0.68\n"
     ]
    }
   ],
   "source": [
    "!pip install opencv-python"
   ]
  },
  {
   "cell_type": "code",
   "execution_count": null,
   "id": "44f94e1c",
   "metadata": {},
   "outputs": [
    {
     "name": "stdout",
     "output_type": "stream",
     "text": [
      "Streaming started\n"
     ]
    }
   ],
   "source": [
    "import face_recognition\n",
    "import imutils\n",
    "import pickle\n",
    "import time\n",
    "import cv2\n",
    "import os\n",
    "\n",
    "import firebase_admin\n",
    "from firebase_admin import credentials, db\n",
    "\n",
    "cred = credentials.Certificate(r\"C:\\Users\\SHWETHA S P\\Downloads\\face.json\")\n",
    "firebase_admin.initialize_app(cred,{\"databaseURL\":\"https://face-recognition-a7783-default-rtdb.firebaseio.com/\"})\n",
    "store=db.reference(\"/\")\n",
    "\n",
    "cascPathface = os.path.dirname(cv2.__file__)+\"/data/haarcascade_frontalface_alt2.xml\"\n",
    "faceCascade = cv2.CascadeClassifier(cascPathface)\n",
    "data = pickle.loads(open('face_enc',\"rb\").read())\n",
    "print(\"Streaming started\")\n",
    "video_capture = cv2.VideoCapture(0)\n",
    "while True:\n",
    "    ret, frame = video_capture.read()\n",
    "    gray = cv2.cvtColor(frame, cv2.COLOR_BGR2GRAY)\n",
    "    faces = faceCascade.detectMultiScale(gray,scaleFactor=1.1,minNeighbors=5,minSize=(60, 60),flags=cv2.CASCADE_SCALE_IMAGE)\n",
    "    rgb = cv2.cvtColor(frame, cv2.COLOR_BGR2RGB)\n",
    "    encodings = face_recognition.face_encodings(rgb)\n",
    "    names = []\n",
    "    for encoding in encodings:\n",
    "        matches = face_recognition.compare_faces(data[\"encodings\"],encoding)\n",
    "        name = \"Unknown\"\n",
    "        if True in matches:\n",
    "            matchedIdxs = [i for (i,b) in enumerate(matches) if b]\n",
    "            counts = {}\n",
    "            for i in matchedIdxs:\n",
    "                name = data[\"names\"][i]\n",
    "                counts[name] = counts.get(name, 0) + 1\n",
    "            name = max(counts, key=counts.get)\n",
    "        names.append(name)\n",
    "        for((x,y,w,h),name)in zip(faces, names):\n",
    "            cv2.rectangle(frame,(x,y),(x + w,y + h),(0, 255, 0),2)\n",
    "            cv2.putText(frame, name , (x,y), cv2.FONT_HERSHEY_SIMPLEX,\n",
    "                       0.75, (0, 255, 0),2)\n",
    "    cv2.imshow(\"Frame\", frame)\n",
    "    if(name==\"Unknown\"):\n",
    "        store.update({\"person\":\"Unknown\"})\n",
    "    else:\n",
    "        store.update({\"person\":name})\n",
    "    if cv2.waitKey(1) & 0xFF == ord('q'):\n",
    "        break\n",
    "video_capture.release()\n",
    "cv2.destroyAllWindows()"
   ]
  },
  {
   "cell_type": "code",
   "execution_count": null,
   "id": "7f97dbcf",
   "metadata": {},
   "outputs": [],
   "source": []
  }
 ],
 "metadata": {
  "kernelspec": {
   "display_name": "Python 3 (ipykernel)",
   "language": "python",
   "name": "python3"
  },
  "language_info": {
   "codemirror_mode": {
    "name": "ipython",
    "version": 3
   },
   "file_extension": ".py",
   "mimetype": "text/x-python",
   "name": "python",
   "nbconvert_exporter": "python",
   "pygments_lexer": "ipython3",
   "version": "3.9.13"
  }
 },
 "nbformat": 4,
 "nbformat_minor": 5
}
